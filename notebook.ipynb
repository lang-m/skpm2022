{
 "cells": [
  {
   "cell_type": "markdown",
   "id": "72d40f50-7773-4745-83bd-2f3482a7fe62",
   "metadata": {},
   "source": [
    "# Domain wall pair conversion\n",
    "\n",
    "## Problem description\n",
    "\n",
    "We want to simulate a domain wall conversion in a two-dimensional thin film sample with:\n",
    "\n",
    "- exchange energy constant $A = 15 \\,\\text{pJ}\\,\\text{m}^{-1}$,\n",
    "- Dzyaloshinskii-Moriya energy constant $D = 3 \\,\\text{mJ}\\,\\text{m}^{-2}$,\n",
    "- uniaxial anisotropy constant $K = 0.6 \\,\\text{MJ}\\,\\text{m}^{-3}$ with $\\hat{\\mathbf{u}} = (0, 0, 1)$ in the out of plane direction,\n",
    "- gyrotropic ratio $\\gamma = 2.211 \\times 10^{5} \\,\\text{m}\\,\\text{A}^{-1}\\,\\text{s}^{-1}$,\n",
    "- Gilbert damping $\\alpha=0.3$.\n",
    "\n",
    "Geometry:\n",
    "\n",
    "![Geometry](Figures/dw_pair_conversion_geometry.png)\n",
    "\n",
    "\n",
    "## References\n",
    "\n",
    "[1] Zhou, Y., & Ezawa, M. (2014). A reversible conversion between a skyrmion and a domain-wall pair in a junction geometry. *Nature Communications* **5**, 8. https://doi.org/10.1038/ncomms5652"
   ]
  },
  {
   "cell_type": "code",
   "execution_count": null,
   "id": "34d58eb3-37ef-41cb-8587-55ea0b7d3bef",
   "metadata": {},
   "outputs": [],
   "source": [
    "%config InlineBackend.figure_formats = ['svg']\n",
    "import holoviews as hv\n",
    "hv.extension('bokeh')\n",
    "hv.output(widget_location='bottom')"
   ]
  },
  {
   "cell_type": "markdown",
   "id": "a3d5614a-1ee2-42a0-8adb-871a2497db22",
   "metadata": {},
   "source": [
    "# Imports"
   ]
  },
  {
   "cell_type": "code",
   "execution_count": null,
   "id": "c701616b-8d8e-49c1-abd1-72d20d2c3557",
   "metadata": {},
   "outputs": [],
   "source": []
  },
  {
   "cell_type": "markdown",
   "id": "d0c849ac-106c-43a7-8b56-f75dc9f6f276",
   "metadata": {},
   "source": [
    "## System"
   ]
  },
  {
   "cell_type": "code",
   "execution_count": null,
   "id": "8acb8558-fccb-4a27-bcd5-b2bf8841af0f",
   "metadata": {},
   "outputs": [],
   "source": []
  },
  {
   "cell_type": "markdown",
   "id": "515e871d-f489-4435-bcd0-975076edaefe",
   "metadata": {},
   "source": [
    "## Energy equation"
   ]
  },
  {
   "cell_type": "code",
   "execution_count": null,
   "id": "d2b4cf76-817f-41a2-a739-8f9a62494894",
   "metadata": {},
   "outputs": [],
   "source": [
    "Ms = 5.8e5  # A/M\n",
    "A_ex = 15e-12  # J/m\n",
    "DMI_D = 3e-3  # J/m**2\n",
    "K = 0.6e6  # J/m**3\n",
    "u = (0, 0, 1)  # easy axis\n",
    "B_z = 100e-3  # T"
   ]
  },
  {
   "cell_type": "code",
   "execution_count": null,
   "id": "17fce02d-d460-4377-9b47-1612d0c1d89d",
   "metadata": {},
   "outputs": [],
   "source": []
  },
  {
   "cell_type": "code",
   "execution_count": null,
   "id": "6bdfde6a-e385-4aa6-85ad-5cab01e1fdb0",
   "metadata": {},
   "outputs": [],
   "source": []
  },
  {
   "cell_type": "markdown",
   "id": "be81359e-8950-4684-b84c-8db03c8ba930",
   "metadata": {},
   "source": [
    "## Initial magnetisation"
   ]
  },
  {
   "cell_type": "code",
   "execution_count": null,
   "id": "aa7ad439-3ea7-4488-a0b1-35c0a15035a7",
   "metadata": {},
   "outputs": [],
   "source": []
  },
  {
   "cell_type": "code",
   "execution_count": null,
   "id": "fd45cac2-25e2-41bf-815e-9dfd882d6b34",
   "metadata": {},
   "outputs": [],
   "source": []
  },
  {
   "cell_type": "code",
   "execution_count": null,
   "id": "2c264f17-1516-499b-a37d-55c25de4d2d5",
   "metadata": {},
   "outputs": [],
   "source": []
  },
  {
   "cell_type": "code",
   "execution_count": null,
   "id": "4e70f633-f13c-45af-89c6-d9d43ca09e44",
   "metadata": {},
   "outputs": [],
   "source": []
  },
  {
   "cell_type": "code",
   "execution_count": null,
   "id": "a9a834f4-ce6d-4d5f-ba73-b245229bdbb4",
   "metadata": {},
   "outputs": [],
   "source": []
  },
  {
   "cell_type": "markdown",
   "id": "89c4313f-2b00-4b33-b3e0-f3383c85c341",
   "metadata": {},
   "source": [
    "## Energy minimisation"
   ]
  },
  {
   "cell_type": "code",
   "execution_count": null,
   "id": "d9fc13b0-72be-4a0c-9b02-135069382a01",
   "metadata": {},
   "outputs": [],
   "source": []
  },
  {
   "cell_type": "code",
   "execution_count": null,
   "id": "dca384ee-74a3-4769-a86d-e30ae1b51025",
   "metadata": {},
   "outputs": [],
   "source": []
  },
  {
   "cell_type": "code",
   "execution_count": null,
   "id": "7edfd181-ce3d-4d93-8430-7946690da2fa",
   "metadata": {},
   "outputs": [],
   "source": []
  },
  {
   "cell_type": "markdown",
   "id": "2e01226c-bb85-4d2a-80d3-51cf176fdacf",
   "metadata": {},
   "source": [
    "## Applying in-plane current"
   ]
  },
  {
   "cell_type": "code",
   "execution_count": null,
   "id": "040f9238-39a8-4346-88b9-06fc2583ade2",
   "metadata": {},
   "outputs": [],
   "source": []
  },
  {
   "cell_type": "code",
   "execution_count": null,
   "id": "88126611-08f5-442d-96f2-01661e451f17",
   "metadata": {},
   "outputs": [],
   "source": []
  },
  {
   "cell_type": "code",
   "execution_count": null,
   "id": "aa607aae-dc3d-4486-b676-633a3af63f50",
   "metadata": {},
   "outputs": [],
   "source": []
  },
  {
   "cell_type": "markdown",
   "id": "cbc91f1e-ef36-4f56-b1ef-5db3d7cdee8e",
   "metadata": {},
   "source": [
    "## Data analysis"
   ]
  },
  {
   "cell_type": "code",
   "execution_count": null,
   "id": "712f5f39-ebc5-4951-8777-6ea753b5f5ed",
   "metadata": {},
   "outputs": [],
   "source": []
  },
  {
   "cell_type": "code",
   "execution_count": null,
   "id": "2023e5bf-fbbd-42aa-882e-d684b6c0878a",
   "metadata": {},
   "outputs": [],
   "source": []
  },
  {
   "cell_type": "code",
   "execution_count": null,
   "id": "36dc3eb9-2f61-4cc5-9dbd-414e618f2720",
   "metadata": {},
   "outputs": [],
   "source": []
  },
  {
   "cell_type": "markdown",
   "id": "1f888301-3c2f-4b1d-a103-29f39c1722fb",
   "metadata": {},
   "source": [
    "## Simulate experiments with `mag2exp`\n",
    "\n",
    "![Ubermag packages](Figures/Ubermag_packages.png)"
   ]
  },
  {
   "cell_type": "code",
   "execution_count": null,
   "id": "53480954-7974-4e7a-8b10-8dab0224f4d1",
   "metadata": {},
   "outputs": [],
   "source": []
  },
  {
   "cell_type": "code",
   "execution_count": null,
   "id": "bbbeb716-9527-435c-8025-60bde313842b",
   "metadata": {},
   "outputs": [],
   "source": []
  },
  {
   "cell_type": "code",
   "execution_count": null,
   "id": "6f960a38-bfa5-4e89-8fcb-5ffef61b0f4d",
   "metadata": {},
   "outputs": [],
   "source": []
  },
  {
   "cell_type": "markdown",
   "id": "17f0d2d3-0eb5-4bd2-ba6a-1f2bcb41ad1a",
   "metadata": {},
   "source": [
    "## MFM\n",
    "\n",
    "![MFM](Figures/MFM_1.png)"
   ]
  },
  {
   "cell_type": "code",
   "execution_count": null,
   "id": "02e6db20-6e6a-472a-b71c-9b74bd3832b6",
   "metadata": {},
   "outputs": [],
   "source": []
  },
  {
   "cell_type": "code",
   "execution_count": null,
   "id": "5613b533-d1c3-476a-b072-a20e5ea198b5",
   "metadata": {},
   "outputs": [],
   "source": []
  },
  {
   "cell_type": "code",
   "execution_count": null,
   "id": "13e6e475-d4e8-45d5-b578-a6d3c0f6ef0f",
   "metadata": {},
   "outputs": [],
   "source": [
    "phase_shift ="
   ]
  },
  {
   "cell_type": "code",
   "execution_count": null,
   "id": "3b88a204-dea8-4626-806e-067143fff3a1",
   "metadata": {},
   "outputs": [],
   "source": [
    "phase_shift.mesh.subregions = {\n",
    "    'free': df.Region(p1=(-100e-9, -50e-9, 5e-9), p2=(200e-9, 50e-9, 100e-9))\n",
    "}"
   ]
  },
  {
   "cell_type": "code",
   "execution_count": null,
   "id": "9b1942c4-2196-48a0-94bf-e39ccf2c83aa",
   "metadata": {},
   "outputs": [],
   "source": []
  },
  {
   "cell_type": "markdown",
   "id": "483cfd0e-797b-42f8-ac08-f5018223c6c0",
   "metadata": {},
   "source": [
    "## X-ray holography\n",
    "![Holography](Figures/Holo_2.png)\n",
    "\n",
    "Figure is taken from Ref. \\[[Turnbull 2020](https://pubs.acs.org/doi/abs/10.1021/acsnano.0c07392)\\]."
   ]
  },
  {
   "cell_type": "code",
   "execution_count": null,
   "id": "a70542c7-49d1-4118-bdbf-a420a9f173ba",
   "metadata": {},
   "outputs": [],
   "source": []
  },
  {
   "cell_type": "code",
   "execution_count": null,
   "id": "48b7eca0-0236-4a8b-adbb-e168239be236",
   "metadata": {},
   "outputs": [],
   "source": []
  },
  {
   "cell_type": "markdown",
   "id": "1137aa82-711a-4840-9b93-0be2fbc4e483",
   "metadata": {},
   "source": [
    "# LTEM\n",
    "![LTEM](Figures/LTEM_imaging.png)"
   ]
  },
  {
   "cell_type": "code",
   "execution_count": null,
   "id": "df95dcc6-a827-4005-a50d-8297fd2b54d1",
   "metadata": {},
   "outputs": [],
   "source": []
  },
  {
   "cell_type": "code",
   "execution_count": null,
   "id": "f023e9ae-c411-4acd-a41a-4bf5750a2502",
   "metadata": {},
   "outputs": [],
   "source": []
  },
  {
   "cell_type": "code",
   "execution_count": null,
   "id": "49a399a1-8062-4c0c-b75a-43bb88b07757",
   "metadata": {},
   "outputs": [],
   "source": []
  },
  {
   "cell_type": "code",
   "execution_count": null,
   "id": "28a44f15-31e6-42f6-bb87-fa63237a32c3",
   "metadata": {},
   "outputs": [],
   "source": []
  }
 ],
 "metadata": {
  "kernelspec": {
   "display_name": "Python 3 (ipykernel)",
   "language": "python",
   "name": "python3"
  },
  "language_info": {
   "codemirror_mode": {
    "name": "ipython",
    "version": 3
   },
   "file_extension": ".py",
   "mimetype": "text/x-python",
   "name": "python",
   "nbconvert_exporter": "python",
   "pygments_lexer": "ipython3",
   "version": "3.10.5"
  }
 },
 "nbformat": 4,
 "nbformat_minor": 5
}
