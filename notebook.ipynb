{
 "cells": [
  {
   "cell_type": "code",
   "execution_count": null,
   "id": "34d58eb3-37ef-41cb-8587-55ea0b7d3bef",
   "metadata": {},
   "outputs": [],
   "source": [
    "# PREFILLED\n",
    "%config InlineBackend.figure_formats = ['svg']\n",
    "import holoviews as hv\n",
    "hv.extension('bokeh')\n",
    "hv.output(widget_location='bottom')"
   ]
  },
  {
   "cell_type": "markdown",
   "id": "a3d5614a-1ee2-42a0-8adb-871a2497db22",
   "metadata": {},
   "source": [
    "# Imports"
   ]
  },
  {
   "cell_type": "code",
   "execution_count": null,
   "id": "c701616b-8d8e-49c1-abd1-72d20d2c3557",
   "metadata": {},
   "outputs": [],
   "source": [
    "import discretisedfield as df\n",
    "import micromagneticmodel as mm\n",
    "import numpy as np\n",
    "import oommfc as mc"
   ]
  },
  {
   "cell_type": "markdown",
   "id": "d0c849ac-106c-43a7-8b56-f75dc9f6f276",
   "metadata": {},
   "source": [
    "## System"
   ]
  },
  {
   "cell_type": "code",
   "execution_count": null,
   "id": "8acb8558-fccb-4a27-bcd5-b2bf8841af0f",
   "metadata": {},
   "outputs": [],
   "source": [
    "system = mm.System(name='dw_pair_conversion')"
   ]
  },
  {
   "cell_type": "markdown",
   "id": "515e871d-f489-4435-bcd0-975076edaefe",
   "metadata": {},
   "source": [
    "## Energy equation"
   ]
  },
  {
   "cell_type": "code",
   "execution_count": null,
   "id": "d2b4cf76-817f-41a2-a739-8f9a62494894",
   "metadata": {},
   "outputs": [],
   "source": [
    "# PREFILLED\n",
    "A_ex = 15e-12  # A/m"
   ]
  },
  {
   "cell_type": "code",
   "execution_count": null,
   "id": "17fce02d-d460-4377-9b47-1612d0c1d89d",
   "metadata": {},
   "outputs": [],
   "source": [
    "system.energy = (mm.Exchange(A=A_ex)\n",
    "                 + mm.DMI(D=3e-3, crystalclass='Cnv_z')\n",
    "                 + mm.UniaxialAnisotropy(K=0.6e6, u=(0, 0, 1))\n",
    "                 + mm.Demag()\n",
    "                 + mm.Zeeman(H=(0, 0, 100e-3 / mm.consts.mu0))\n",
    "                )"
   ]
  },
  {
   "cell_type": "code",
   "execution_count": null,
   "id": "6bdfde6a-e385-4aa6-85ad-5cab01e1fdb0",
   "metadata": {},
   "outputs": [],
   "source": [
    "system.energy"
   ]
  },
  {
   "cell_type": "markdown",
   "id": "be81359e-8950-4684-b84c-8db03c8ba930",
   "metadata": {},
   "source": [
    "## Initial magnetisation"
   ]
  },
  {
   "cell_type": "code",
   "execution_count": null,
   "id": "aa7ad439-3ea7-4488-a0b1-35c0a15035a7",
   "metadata": {},
   "outputs": [],
   "source": [
    "region = df.Region(p1=(-100e-9, -50e-9, -10e-9), p2=(200e-9, 50e-9, 0))\n",
    "mesh = df.Mesh(region=region, cell=(2.5e-9, 2.5e-9, 5e-9), subregions={'sr': region})"
   ]
  },
  {
   "cell_type": "code",
   "execution_count": null,
   "id": "023eda74-995a-4a37-ab9d-6db2d7f527e3",
   "metadata": {},
   "outputs": [],
   "source": [
    "4 * np.pi * A_ex / 3e-3"
   ]
  },
  {
   "cell_type": "raw",
   "id": "ecc0898b-6ba9-4376-8405-fb3a9e7544b9",
   "metadata": {},
   "source": [
    "mesh.mpl()  # MatPlotLib"
   ]
  },
  {
   "cell_type": "raw",
   "id": "928d1e3d-f6f1-4b54-9078-28b0fe74dcd5",
   "metadata": {},
   "source": [
    "mesh.k3d()"
   ]
  },
  {
   "cell_type": "code",
   "execution_count": null,
   "id": "f4738ffa-c800-4503-82c3-819b68089976",
   "metadata": {},
   "outputs": [],
   "source": [
    "# PREFILLED\n",
    "Ms = 5.8e5  # A/m"
   ]
  },
  {
   "cell_type": "code",
   "execution_count": null,
   "id": "4e70f633-f13c-45af-89c6-d9d43ca09e44",
   "metadata": {},
   "outputs": [],
   "source": [
    "def Ms_func(p):\n",
    "    x, y, z = p\n",
    "    if x > 0 or abs(y) < 20e-9:\n",
    "        return Ms\n",
    "    return 0\n",
    "\n",
    "def init_m(p):\n",
    "    x, y, z = p\n",
    "    if -60e-9 < x < -20e-9:\n",
    "        return (0, 0, -1)\n",
    "    return (0, 0, 1)\n",
    "\n",
    "system.m = df.Field(mesh, dim=3, value=init_m, norm=Ms_func)"
   ]
  },
  {
   "cell_type": "code",
   "execution_count": null,
   "id": "a9a834f4-ce6d-4d5f-ba73-b245229bdbb4",
   "metadata": {},
   "outputs": [],
   "source": [
    "system.m.plane('z').z.mpl()"
   ]
  },
  {
   "cell_type": "markdown",
   "id": "89c4313f-2b00-4b33-b3e0-f3383c85c341",
   "metadata": {},
   "source": [
    "## Energy minimisation"
   ]
  },
  {
   "cell_type": "code",
   "execution_count": null,
   "id": "d9fc13b0-72be-4a0c-9b02-135069382a01",
   "metadata": {},
   "outputs": [],
   "source": [
    "md = mc.MinDriver()\n",
    "md.drive(system)"
   ]
  },
  {
   "cell_type": "code",
   "execution_count": null,
   "id": "dca384ee-74a3-4769-a86d-e30ae1b51025",
   "metadata": {},
   "outputs": [],
   "source": [
    "system.m.plane('z').z.mpl()"
   ]
  },
  {
   "cell_type": "code",
   "execution_count": null,
   "id": "7edfd181-ce3d-4d93-8430-7946690da2fa",
   "metadata": {},
   "outputs": [],
   "source": [
    "system.m.hv(kdims=['x', 'y'], vector_kw={'n': (45, 45)})"
   ]
  },
  {
   "cell_type": "markdown",
   "id": "2e01226c-bb85-4d2a-80d3-51cf176fdacf",
   "metadata": {},
   "source": [
    "## Applying in-plane current"
   ]
  },
  {
   "cell_type": "code",
   "execution_count": null,
   "id": "2575a927-92f2-462b-bd77-8ca9e7971cf5",
   "metadata": {},
   "outputs": [],
   "source": [
    "def J2u(J):\n",
    "    muB = 9.27e-24\n",
    "    return J * muB / (mm.consts.e * Ms)"
   ]
  },
  {
   "cell_type": "code",
   "execution_count": null,
   "id": "7473691c-32dc-49ed-904b-e3551c3668e7",
   "metadata": {},
   "outputs": [],
   "source": [
    "J2u(.6e12)"
   ]
  },
  {
   "cell_type": "code",
   "execution_count": null,
   "id": "00e220e5-3d89-487f-9de3-f3cdf87d0eb3",
   "metadata": {},
   "outputs": [],
   "source": [
    "J2u(5e12)"
   ]
  },
  {
   "cell_type": "code",
   "execution_count": null,
   "id": "040f9238-39a8-4346-88b9-06fc2583ade2",
   "metadata": {},
   "outputs": [],
   "source": [
    "system.dynamics = mm.Precession(gamma0=mm.consts.gamma0) + mm.Damping(alpha=0.3) + mm.ZhangLi(u=300, beta=0.5)\n",
    "system.dynamics"
   ]
  },
  {
   "cell_type": "code",
   "execution_count": null,
   "id": "88126611-08f5-442d-96f2-01661e451f17",
   "metadata": {},
   "outputs": [],
   "source": [
    "td = mc.TimeDriver()\n",
    "td.drive(system, t=0.35e-9, n=200, verbose=2)"
   ]
  },
  {
   "cell_type": "code",
   "execution_count": null,
   "id": "aa607aae-dc3d-4486-b676-633a3af63f50",
   "metadata": {},
   "outputs": [],
   "source": [
    "system.m.hv(kdims=['x', 'y'], vector_kw={'n': (45, 15)}, scalar_kw={'clim': (-Ms, Ms), 'cmap': 'coolwarm'})"
   ]
  },
  {
   "cell_type": "markdown",
   "id": "cbc91f1e-ef36-4f56-b1ef-5db3d7cdee8e",
   "metadata": {},
   "source": [
    "## Data analysis"
   ]
  },
  {
   "cell_type": "code",
   "execution_count": null,
   "id": "712f5f39-ebc5-4951-8777-6ea753b5f5ed",
   "metadata": {},
   "outputs": [],
   "source": [
    "import micromagneticdata as mdata\n",
    "data = mdata.Data(system.name)"
   ]
  },
  {
   "cell_type": "code",
   "execution_count": null,
   "id": "2023e5bf-fbbd-42aa-882e-d684b6c0878a",
   "metadata": {},
   "outputs": [],
   "source": [
    "data.info"
   ]
  },
  {
   "cell_type": "code",
   "execution_count": null,
   "id": "36dc3eb9-2f61-4cc5-9dbd-414e618f2720",
   "metadata": {},
   "outputs": [],
   "source": [
    "data[-2].hv(kdims=['x', 'y'],\n",
    "            vdims=['x', 'y'],\n",
    "            vector_kw={'n' : (45, 15)},\n",
    "            scalar_kw = {'clim':(-Ms, Ms), 'cmap': 'coolwarm'})"
   ]
  },
  {
   "cell_type": "code",
   "execution_count": null,
   "id": "bd805c19-ed9d-43fe-b97b-dcd1f6ae7e34",
   "metadata": {},
   "outputs": [],
   "source": [
    "system.dynamics -= system.dynamics.zhangli\n",
    "td.drive(system, t=.5e-9, n=1, verbose=2)"
   ]
  },
  {
   "cell_type": "code",
   "execution_count": null,
   "id": "a59d685a-73f2-4df4-b122-522f2e301b4f",
   "metadata": {},
   "outputs": [],
   "source": [
    "system.m.hv(kdims=['x', 'y'], vector_kw={'n': (45, 15)}, scalar_kw={'clim': (-Ms, Ms), 'cmap': 'coolwarm'})"
   ]
  },
  {
   "cell_type": "markdown",
   "id": "1f888301-3c2f-4b1d-a103-29f39c1722fb",
   "metadata": {},
   "source": [
    "## Simulate experiments with `mag2exp`\n",
    "\n",
    "![Ubermag packages](overview.pmg)"
   ]
  },
  {
   "cell_type": "code",
   "execution_count": null,
   "id": "53480954-7974-4e7a-8b10-8dab0224f4d1",
   "metadata": {},
   "outputs": [],
   "source": [
    "md.drive(system)"
   ]
  },
  {
   "cell_type": "code",
   "execution_count": null,
   "id": "bbbeb716-9527-435c-8025-60bde313842b",
   "metadata": {},
   "outputs": [],
   "source": [
    "system.m.hv(kdims=['x', 'y'], vector_kw={'n': (45, 15)}, scalar_kw={'clim': (-Ms, Ms), 'cmap': 'coolwarm'})"
   ]
  },
  {
   "cell_type": "code",
   "execution_count": null,
   "id": "6f960a38-bfa5-4e89-8fcb-5ffef61b0f4d",
   "metadata": {},
   "outputs": [],
   "source": [
    "import mag2exp"
   ]
  },
  {
   "cell_type": "code",
   "execution_count": null,
   "id": "02e6db20-6e6a-472a-b71c-9b74bd3832b6",
   "metadata": {},
   "outputs": [],
   "source": [
    "mfm_m_field = system.m.pad({'z': (0, 25)}, mode='constant')"
   ]
  },
  {
   "cell_type": "code",
   "execution_count": null,
   "id": "c25d4c21-270b-46a0-995c-ffa1d71fa0ef",
   "metadata": {},
   "outputs": [],
   "source": [
    "system.m.mesh.region"
   ]
  },
  {
   "cell_type": "code",
   "execution_count": null,
   "id": "0405f12b-fc11-42d9-985a-587ba48de868",
   "metadata": {},
   "outputs": [],
   "source": [
    "# PREFILLED\n",
    "mfm_m_field.mesh.subregions = {\n",
    "    #'sample': df.Region(p1=(-100e-9, -50e-9, -2.5e-9), p2=(200e-9, 50e-9, 0)),\n",
    "    'free': df.Region(p1=(-100e-9, -50e-9, 5e-9), p2=(200e-9, 50e-9, 100e-9))\n",
    "}"
   ]
  },
  {
   "cell_type": "code",
   "execution_count": null,
   "id": "5613b533-d1c3-476a-b072-a20e5ea198b5",
   "metadata": {},
   "outputs": [],
   "source": [
    "mfm_m_field.plane('y').z.mpl()"
   ]
  },
  {
   "cell_type": "code",
   "execution_count": null,
   "id": "13e6e475-d4e8-45d5-b578-a6d3c0f6ef0f",
   "metadata": {},
   "outputs": [],
   "source": [
    "phase_shift = mag2exp.mfm.phase_shift(mfm_m_field, quality=650, k=3, tip_m=(0, 0, 1e-16))"
   ]
  },
  {
   "cell_type": "raw",
   "id": "2da97cb2-19a5-43cd-a30d-1c4c2fa0b3c0",
   "metadata": {},
   "source": [
    "# PREFILLED\n",
    "phase_shift.mesh.subregions = {\n",
    "    'sample': df.Region(p1=(0, 0, -10e-9), p2=(150e-9, 50e-9, 0)),\n",
    "    'free': df.Region(p1=(0, 0, 0), p2=(150e-9, 50e-9, 100e-9))\n",
    "}"
   ]
  },
  {
   "cell_type": "code",
   "execution_count": null,
   "id": "9b1942c4-2196-48a0-94bf-e39ccf2c83aa",
   "metadata": {},
   "outputs": [],
   "source": [
    "phase_shift['free'].hv(kdims=['x', 'y'], scalar_kw={'cmap': 'gray'})"
   ]
  },
  {
   "cell_type": "code",
   "execution_count": null,
   "id": "a70542c7-49d1-4118-bdbf-a420a9f173ba",
   "metadata": {},
   "outputs": [],
   "source": [
    "holo_image = mag2exp.x_ray.holography(system.m, fwhm=(15e-9, 15e-9))"
   ]
  },
  {
   "cell_type": "code",
   "execution_count": null,
   "id": "48b7eca0-0236-4a8b-adbb-e168239be236",
   "metadata": {},
   "outputs": [],
   "source": [
    "holo_image.mpl.scalar(cmap='RdBu', interpolation='spline16', symmetric_clim=True)"
   ]
  },
  {
   "cell_type": "code",
   "execution_count": null,
   "id": "df95dcc6-a827-4005-a50d-8297fd2b54d1",
   "metadata": {},
   "outputs": [],
   "source": [
    "mag2exp.quick_plots.ltem_defocus(system.m, voltage=300e3, df_length=0.2e-3)"
   ]
  },
  {
   "cell_type": "code",
   "execution_count": null,
   "id": "f023e9ae-c411-4acd-a41a-4bf5750a2502",
   "metadata": {},
   "outputs": [],
   "source": [
    "system.m.norm.k3d.nonzero()"
   ]
  },
  {
   "cell_type": "code",
   "execution_count": null,
   "id": "49a399a1-8062-4c0c-b75a-43bb88b07757",
   "metadata": {},
   "outputs": [],
   "source": [
    "field_rotator = df.FieldRotator(system.m)\n",
    "field_rotator.rotate(\"from_euler\", seq=\"y\", angles=10, degrees=True)\n",
    "field_rotator.field.norm.k3d.nonzero()"
   ]
  },
  {
   "cell_type": "code",
   "execution_count": null,
   "id": "28a44f15-31e6-42f6-bb87-fa63237a32c3",
   "metadata": {},
   "outputs": [],
   "source": [
    "mag2exp.quick_plots.ltem_defocus(field_rotator.field, voltage=300e3, df_length=0.2e-3)"
   ]
  },
  {
   "cell_type": "code",
   "execution_count": null,
   "id": "cd45aa2b-39bc-4d4e-97c9-e6830f0e334d",
   "metadata": {},
   "outputs": [],
   "source": []
  }
 ],
 "metadata": {
  "kernelspec": {
   "display_name": "Python 3 (ipykernel)",
   "language": "python",
   "name": "python3"
  },
  "language_info": {
   "codemirror_mode": {
    "name": "ipython",
    "version": 3
   },
   "file_extension": ".py",
   "mimetype": "text/x-python",
   "name": "python",
   "nbconvert_exporter": "python",
   "pygments_lexer": "ipython3",
   "version": "3.8.13"
  }
 },
 "nbformat": 4,
 "nbformat_minor": 5
}
